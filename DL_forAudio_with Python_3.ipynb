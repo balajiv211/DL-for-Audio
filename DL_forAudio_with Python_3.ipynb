{
 "cells": [
  {
   "cell_type": "markdown",
   "metadata": {},
   "source": [
    "### Code for Valerio's course: Deep Learning (for Audio) with Python\n",
    "#### 3rd video"
   ]
  },
  {
   "cell_type": "markdown",
   "metadata": {},
   "source": [
    "### Implementing an Artificial Neuron from scratch"
   ]
  },
  {
   "cell_type": "code",
   "execution_count": 1,
   "metadata": {},
   "outputs": [
    {
     "name": "stdout",
     "output_type": "stream",
     "text": [
      "0.610639233949222\n"
     ]
    }
   ],
   "source": [
    "import math\n",
    "\n",
    "def sigmoid(x):\n",
    "    y = 1.0 / (1 + math.exp(-x))\n",
    "    return y\n",
    "\n",
    "def activate(inputs, weights):\n",
    "    # perform net input\n",
    "    h = 0\n",
    "    for x, w in zip(inputs, weights):\n",
    "        h += x * w\n",
    "        \n",
    "    # perform activation\n",
    "    return sigmoid(h)\n",
    "\n",
    "if __name__ == \"__main__\" :\n",
    "    inputs = [.5, .3, .2]\n",
    "    weights = [.4, .7, .2]\n",
    "    output = activate(inputs, weights)\n",
    "    print (output)"
   ]
  }
 ],
 "metadata": {
  "kernelspec": {
   "display_name": "Python 3",
   "language": "python",
   "name": "python3"
  },
  "language_info": {
   "codemirror_mode": {
    "name": "ipython",
    "version": 3
   },
   "file_extension": ".py",
   "mimetype": "text/x-python",
   "name": "python",
   "nbconvert_exporter": "python",
   "pygments_lexer": "ipython3",
   "version": "3.8.3"
  }
 },
 "nbformat": 4,
 "nbformat_minor": 4
}
