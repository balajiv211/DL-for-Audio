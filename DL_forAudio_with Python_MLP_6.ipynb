{
 "cells": [
  {
   "cell_type": "markdown",
   "metadata": {},
   "source": [
    "### Code for Valerio's course: Deep Learning (for Audio) with Python\n",
    "#### 6th Video"
   ]
  },
  {
   "cell_type": "markdown",
   "metadata": {},
   "source": [
    "### Implementing a neural network MLP from scratch"
   ]
  },
  {
   "cell_type": "code",
   "execution_count": 40,
   "metadata": {},
   "outputs": [],
   "source": [
    "import numpy as np\n",
    "\n",
    "class MLP:\n",
    "    def __init__(self, num_inputs=3, num_hidden=[3,5], num_outputs=2):\n",
    "        \n",
    "        self.num_inputs = num_inputs\n",
    "        self.num_hidden = num_hidden\n",
    "        self.num_outputs = num_outputs\n",
    "        \n",
    "        layers = [self.num_inputs] + self.num_hidden + [self.num_outputs]\n",
    "        print (\"layers = \", layers)\n",
    "        # initiate random weights\n",
    "        self.weights = []\n",
    "        \n",
    "        # this block is with specific weights as used in MLP sheet of calculations.xlsx\n",
    "        # refer the diagram in that sheet\n",
    "        if num_inputs == 2:\n",
    "            # Assign 6 weights for input to hidden layer\n",
    "            # Assign 3 weights for hidden layer to output\n",
    "            w = [[1.2, 0.7, 1], [2, 0.6, 1.8]]\n",
    "            self.weights.append(w)\n",
    "            w = [1, 0.9, 1.5]\n",
    "            self.weights.append(w)\n",
    "            print (\"self.weights = \", self.weights)\n",
    "        else:\n",
    "            # Assign random weights for the edges\n",
    "            for i in range (len(layers)-1):\n",
    "                w = np.random.rand (layers[i], layers[i+1])\n",
    "                #print (\"i = \", i, \"w = \", w)\n",
    "                self.weights.append(w)\n",
    "            print (\"self.weights = \", self.weights)\n",
    "\n",
    "    def forward_propagate (self, inputs):\n",
    "        activations = inputs\n",
    "        print (\"activations = \", activations)\n",
    "        for w in self.weights:\n",
    "            # calculate net inputs\n",
    "            print (\"weights for current layer = \", w)\n",
    "            net_inputs = np.dot(activations, w)\n",
    "            print (\"net_inputs = \", net_inputs)\n",
    "            \n",
    "            # calculate activations\n",
    "            activations = self._sigmoid(net_inputs)\n",
    "            print (\"activations = \", activations, \"\\n\")\n",
    "\n",
    "        return activations\n",
    "\n",
    "    def _sigmoid(self, x):\n",
    "        y = 1.0 / (1 + np.exp(-x))\n",
    "        return y"
   ]
  },
  {
   "cell_type": "code",
   "execution_count": 41,
   "metadata": {},
   "outputs": [
    {
     "name": "stdout",
     "output_type": "stream",
     "text": [
      "layers =  [2, 3, 1]\n",
      "self.weights =  [[[1.2, 0.7, 1], [2, 0.6, 1.8]], [1, 0.9, 1.5]]\n",
      "activations =  [0.8, 1]\n",
      "weights for current layer =  [[1.2, 0.7, 1], [2, 0.6, 1.8]]\n",
      "net_inputs =  [2.96 1.16 2.6 ]\n",
      "activations =  [0.95073399 0.76133271 0.93086158] \n",
      "\n",
      "weights for current layer =  [1, 0.9, 1.5]\n",
      "net_inputs =  3.0322258067595724\n",
      "activations =  0.9540089309642452 \n",
      "\n",
      "The network input is : [0.8, 1]\n",
      "The network output is : 0.9540089309642452\n"
     ]
    }
   ],
   "source": [
    "if __name__ == \"__main__\" :\n",
    "    \n",
    "    # create an MLP & create some inputs : option 1 as in the video\n",
    "    #mlp = MLP()\n",
    "    #inputs = np.random.rand(mlp.num_inputs)\n",
    "    \n",
    "    # create an MLP & create some inputs : option 2 as in calculations.xlsx\n",
    "    mlp = MLP(2, [3], 1)    \n",
    "    inputs = [0.8, 1]\n",
    "    \n",
    "    # perform forward propagation\n",
    "    outputs = mlp.forward_propagate(inputs)\n",
    "    \n",
    "    # print the results\n",
    "    print (\"The network input is : {}\".format(inputs))\n",
    "    print (\"The network output is : {}\".format(outputs))\n"
   ]
  }
 ],
 "metadata": {
  "kernelspec": {
   "display_name": "Python 3",
   "language": "python",
   "name": "python3"
  },
  "language_info": {
   "codemirror_mode": {
    "name": "ipython",
    "version": 3
   },
   "file_extension": ".py",
   "mimetype": "text/x-python",
   "name": "python",
   "nbconvert_exporter": "python",
   "pygments_lexer": "ipython3",
   "version": "3.8.3"
  }
 },
 "nbformat": 4,
 "nbformat_minor": 4
}
